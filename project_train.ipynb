{
 "cells": [
  {
   "cell_type": "code",
   "execution_count": 1,
   "id": "fc002699-bf0b-4f25-9637-8561e67e3e3d",
   "metadata": {},
   "outputs": [],
   "source": [
    "#from models import *\n",
    "import torch\n",
    "import pytorchvideo\n",
    "from pytorchvideo.data import labeled_video_dataset\n",
    "from pytorchvideo.data.clip_sampling import make_clip_sampler\n",
    "from pytorchvideo.transforms import ApplyTransformToKey, RandomResizedCrop, Normalize, RandomShortSideScale, RemoveKey, ShortSideScale, UniformTemporalSubsample\n",
    "import torchvision.transforms as transforms \n",
    "from torch.utils.data import DataLoader, ConcatDataset\n",
    "from tqdm import tqdm\n",
    "import pytorchvideo.models as models\n",
    "import torch.nn as nn\n",
    "import torch.optim as optim\n",
    "from torch.optim import lr_scheduler\n",
    "import torchvision.models.video as v_model\n",
    "import numpy as np\n",
    "import matplotlib.pyplot as plt\n",
    "import os\n",
    "#from models import *\n",
    "\n",
    "\n",
    "device = torch.device('cuda' if torch.cuda.is_available() else \"cpu\")\n",
    "leg = 'R'"
   ]
  },
  {
   "cell_type": "code",
   "execution_count": 2,
   "id": "b7f50b9a-bfe7-44ff-887e-d8416a2f84ea",
   "metadata": {},
   "outputs": [],
   "source": [
    "train_transform = transforms.Compose(\n",
    "            [\n",
    "            ApplyTransformToKey(\n",
    "              key=\"video\",\n",
    "              transform = transforms.Compose(\n",
    "                  [\n",
    "                    #transforms.RandomRotation(20),\n",
    "                    Normalize((0.45, 0.45, 0.45), (0.225, 0.225, 0.225)),\n",
    "                    transforms.Resize((192,108)),\n",
    "                  ]\n",
    "                ),\n",
    "              ),\n",
    "            ]\n",
    "        )\n",
    "add_transform = transforms.Compose(\n",
    "            [\n",
    "            ApplyTransformToKey(\n",
    "              key=\"video\",\n",
    "              transform = transforms.Compose(\n",
    "                  [\n",
    "                    \n",
    "                    Normalize((0.45, 0.45, 0.45), (0.225, 0.225, 0.225)),\n",
    "                    transforms.Resize((192,108)),\n",
    "                    transforms.RandomRotation(20),\n",
    "                  ]\n",
    "                ),\n",
    "              ),\n",
    "            ]\n",
    "        )\n",
    "\n",
    "batch_size = 3\n",
    "num_sec = 5"
   ]
  },
  {
   "cell_type": "code",
   "execution_count": 3,
   "id": "a135759b-7f6e-4348-b8ea-48c6e98b5dd8",
   "metadata": {},
   "outputs": [
    {
     "name": "stdout",
     "output_type": "stream",
     "text": [
      "\n",
      "\n",
      "\n"
     ]
    }
   ],
   "source": [
    "train_sampler = make_clip_sampler('uniform', num_sec)\n",
    "#valid_sampler = make_clip_sampler('uniform', num_sec)\n",
    "dataset = labeled_video_dataset(f'video_dataset_{leg}', train_sampler, transform=train_transform)\n",
    "add_dataset = labeled_video_dataset(f'video_dataset_{leg}', train_sampler, transform=add_transform)\n",
    "\n",
    "#train_set = ConcatDataset([dataset, add_dataset])\n",
    "\n",
    "valid_set = labeled_video_dataset(f'valid_set_{leg}', train_sampler, transform=train_transform)\n",
    "#train_set, valid_set = random_split(dataset, [int(len(dataset) * 0.8), len(dataset) - int(len(dataset) * 0.8)])\n",
    "train_loader = DataLoader(dataset, batch_size = 3)\n",
    "add_loader = DataLoader(add_dataset, batch_size = 3)\n",
    "\n",
    "valid_loader = DataLoader(valid_set, batch_size = 3)"
   ]
  },
  {
   "cell_type": "code",
   "execution_count": 4,
   "id": "dc71b916-c1f9-41e7-8b51-6b7ee3ec3c3f",
   "metadata": {},
   "outputs": [],
   "source": [
    "model = v_model.r3d_18(weights = 'R3D_18_Weights.DEFAULT')\n",
    "model = model.to(device)"
   ]
  },
  {
   "cell_type": "code",
   "execution_count": 5,
   "id": "9705c438-a025-46e8-8ee6-a2a26a3580e1",
   "metadata": {
    "scrolled": true,
    "tags": []
   },
   "outputs": [
    {
     "name": "stderr",
     "output_type": "stream",
     "text": [
      "59it [02:06,  2.15s/it]\n",
      "59it [02:05,  2.12s/it]\n"
     ]
    },
    {
     "name": "stdout",
     "output_type": "stream",
     "text": [
      "Epoch 0 | train_accuracy = 0.560000, train_loss = 1.080941\n"
     ]
    },
    {
     "name": "stderr",
     "output_type": "stream",
     "text": [
      "23it [00:36,  1.59s/it]\n"
     ]
    },
    {
     "name": "stdout",
     "output_type": "stream",
     "text": [
      "Epoch 0 | valid_accuracy = 0.507246, valid_loss = 0.551438\n"
     ]
    },
    {
     "name": "stderr",
     "output_type": "stream",
     "text": [
      "59it [02:01,  2.06s/it]\n",
      "59it [02:05,  2.13s/it]\n"
     ]
    },
    {
     "name": "stdout",
     "output_type": "stream",
     "text": [
      "Epoch 1 | train_accuracy = 0.642857, train_loss = 0.363132\n"
     ]
    },
    {
     "name": "stderr",
     "output_type": "stream",
     "text": [
      "23it [00:37,  1.61s/it]\n"
     ]
    },
    {
     "name": "stdout",
     "output_type": "stream",
     "text": [
      "Epoch 1 | valid_accuracy = 0.463768, valid_loss = 0.475687\n"
     ]
    },
    {
     "name": "stderr",
     "output_type": "stream",
     "text": [
      "59it [02:02,  2.07s/it]\n",
      "59it [02:05,  2.14s/it]\n"
     ]
    },
    {
     "name": "stdout",
     "output_type": "stream",
     "text": [
      "Epoch 2 | train_accuracy = 0.660000, train_loss = 0.339885\n"
     ]
    },
    {
     "name": "stderr",
     "output_type": "stream",
     "text": [
      "23it [00:37,  1.61s/it]\n"
     ]
    },
    {
     "name": "stdout",
     "output_type": "stream",
     "text": [
      "Epoch 2 | valid_accuracy = 0.492754, valid_loss = 0.578480\n"
     ]
    },
    {
     "name": "stderr",
     "output_type": "stream",
     "text": [
      "59it [02:02,  2.08s/it]\n",
      "59it [02:06,  2.15s/it]\n"
     ]
    },
    {
     "name": "stdout",
     "output_type": "stream",
     "text": [
      "Epoch 3 | train_accuracy = 0.674286, train_loss = 0.333192\n"
     ]
    },
    {
     "name": "stderr",
     "output_type": "stream",
     "text": [
      "23it [00:37,  1.62s/it]\n"
     ]
    },
    {
     "name": "stdout",
     "output_type": "stream",
     "text": [
      "Epoch 3 | valid_accuracy = 0.608696, valid_loss = 0.454444\n"
     ]
    },
    {
     "name": "stderr",
     "output_type": "stream",
     "text": [
      "59it [02:03,  2.09s/it]\n",
      "59it [02:07,  2.16s/it]\n"
     ]
    },
    {
     "name": "stdout",
     "output_type": "stream",
     "text": [
      "Epoch 4 | train_accuracy = 0.657143, train_loss = 0.330161\n"
     ]
    },
    {
     "name": "stderr",
     "output_type": "stream",
     "text": [
      "23it [00:37,  1.65s/it]\n"
     ]
    },
    {
     "name": "stdout",
     "output_type": "stream",
     "text": [
      "Epoch 4 | valid_accuracy = 0.478261, valid_loss = 0.393666\n"
     ]
    },
    {
     "name": "stderr",
     "output_type": "stream",
     "text": [
      "59it [02:04,  2.10s/it]\n",
      "59it [02:06,  2.15s/it]\n"
     ]
    },
    {
     "name": "stdout",
     "output_type": "stream",
     "text": [
      "Epoch 5 | train_accuracy = 0.674286, train_loss = 0.309609\n"
     ]
    },
    {
     "name": "stderr",
     "output_type": "stream",
     "text": [
      "23it [00:37,  1.62s/it]\n"
     ]
    },
    {
     "name": "stdout",
     "output_type": "stream",
     "text": [
      "Epoch 5 | valid_accuracy = 0.492754, valid_loss = 0.412941\n"
     ]
    },
    {
     "name": "stderr",
     "output_type": "stream",
     "text": [
      "59it [02:02,  2.08s/it]\n",
      "59it [02:07,  2.16s/it]\n"
     ]
    },
    {
     "name": "stdout",
     "output_type": "stream",
     "text": [
      "Epoch 6 | train_accuracy = 0.680000, train_loss = 0.298746\n"
     ]
    },
    {
     "name": "stderr",
     "output_type": "stream",
     "text": [
      "23it [00:37,  1.64s/it]\n"
     ]
    },
    {
     "name": "stdout",
     "output_type": "stream",
     "text": [
      "Epoch 6 | valid_accuracy = 0.492754, valid_loss = 0.379587\n"
     ]
    },
    {
     "name": "stderr",
     "output_type": "stream",
     "text": [
      "59it [02:02,  2.08s/it]\n",
      "59it [02:06,  2.15s/it]\n"
     ]
    },
    {
     "name": "stdout",
     "output_type": "stream",
     "text": [
      "Epoch 7 | train_accuracy = 0.688571, train_loss = 0.287381\n"
     ]
    },
    {
     "name": "stderr",
     "output_type": "stream",
     "text": [
      "23it [00:37,  1.62s/it]\n"
     ]
    },
    {
     "name": "stdout",
     "output_type": "stream",
     "text": [
      "Epoch 7 | valid_accuracy = 0.536232, valid_loss = 0.397432\n"
     ]
    },
    {
     "name": "stderr",
     "output_type": "stream",
     "text": [
      "59it [02:03,  2.09s/it]\n",
      "59it [02:07,  2.16s/it]\n"
     ]
    },
    {
     "name": "stdout",
     "output_type": "stream",
     "text": [
      "Epoch 8 | train_accuracy = 0.705714, train_loss = 0.272613\n"
     ]
    },
    {
     "name": "stderr",
     "output_type": "stream",
     "text": [
      "23it [00:37,  1.64s/it]\n"
     ]
    },
    {
     "name": "stdout",
     "output_type": "stream",
     "text": [
      "Epoch 8 | valid_accuracy = 0.492754, valid_loss = 0.398751\n"
     ]
    },
    {
     "name": "stderr",
     "output_type": "stream",
     "text": [
      "59it [02:03,  2.10s/it]\n",
      "59it [02:06,  2.15s/it]\n"
     ]
    },
    {
     "name": "stdout",
     "output_type": "stream",
     "text": [
      "Epoch 9 | train_accuracy = 0.680000, train_loss = 0.284132\n"
     ]
    },
    {
     "name": "stderr",
     "output_type": "stream",
     "text": [
      "23it [00:37,  1.62s/it]\n"
     ]
    },
    {
     "name": "stdout",
     "output_type": "stream",
     "text": [
      "Epoch 9 | valid_accuracy = 0.449275, valid_loss = 0.397485\n"
     ]
    },
    {
     "name": "stderr",
     "output_type": "stream",
     "text": [
      "59it [02:02,  2.07s/it]\n",
      "59it [02:07,  2.17s/it]\n"
     ]
    },
    {
     "name": "stdout",
     "output_type": "stream",
     "text": [
      "Epoch 10 | train_accuracy = 0.677143, train_loss = 0.277768\n"
     ]
    },
    {
     "name": "stderr",
     "output_type": "stream",
     "text": [
      "23it [00:37,  1.63s/it]\n"
     ]
    },
    {
     "name": "stdout",
     "output_type": "stream",
     "text": [
      "Epoch 10 | valid_accuracy = 0.463768, valid_loss = 0.416819\n"
     ]
    },
    {
     "name": "stderr",
     "output_type": "stream",
     "text": [
      "59it [02:03,  2.10s/it]\n",
      "59it [02:07,  2.16s/it]\n"
     ]
    },
    {
     "name": "stdout",
     "output_type": "stream",
     "text": [
      "Epoch 11 | train_accuracy = 0.745714, train_loss = 0.236561\n"
     ]
    },
    {
     "name": "stderr",
     "output_type": "stream",
     "text": [
      "23it [00:37,  1.64s/it]\n"
     ]
    },
    {
     "name": "stdout",
     "output_type": "stream",
     "text": [
      "Epoch 11 | valid_accuracy = 0.304348, valid_loss = 0.439546\n"
     ]
    },
    {
     "name": "stderr",
     "output_type": "stream",
     "text": [
      "59it [02:03,  2.10s/it]\n",
      "59it [02:07,  2.16s/it]\n"
     ]
    },
    {
     "name": "stdout",
     "output_type": "stream",
     "text": [
      "Epoch 12 | train_accuracy = 0.728571, train_loss = 0.247951\n"
     ]
    },
    {
     "name": "stderr",
     "output_type": "stream",
     "text": [
      "23it [00:37,  1.64s/it]\n"
     ]
    },
    {
     "name": "stdout",
     "output_type": "stream",
     "text": [
      "Epoch 12 | valid_accuracy = 0.304348, valid_loss = 0.418310\n"
     ]
    },
    {
     "name": "stderr",
     "output_type": "stream",
     "text": [
      "59it [02:02,  2.08s/it]\n",
      "59it [02:07,  2.16s/it]\n"
     ]
    },
    {
     "name": "stdout",
     "output_type": "stream",
     "text": [
      "Epoch 13 | train_accuracy = 0.725714, train_loss = 0.234855\n"
     ]
    },
    {
     "name": "stderr",
     "output_type": "stream",
     "text": [
      "23it [00:37,  1.63s/it]\n"
     ]
    },
    {
     "name": "stdout",
     "output_type": "stream",
     "text": [
      "Epoch 13 | valid_accuracy = 0.478261, valid_loss = 0.450457\n"
     ]
    },
    {
     "name": "stderr",
     "output_type": "stream",
     "text": [
      "59it [02:04,  2.11s/it]\n",
      "59it [02:07,  2.17s/it]\n"
     ]
    },
    {
     "name": "stdout",
     "output_type": "stream",
     "text": [
      "Epoch 14 | train_accuracy = 0.700000, train_loss = 0.253566\n"
     ]
    },
    {
     "name": "stderr",
     "output_type": "stream",
     "text": [
      "23it [00:37,  1.64s/it]\n"
     ]
    },
    {
     "name": "stdout",
     "output_type": "stream",
     "text": [
      "Epoch 14 | valid_accuracy = 0.449275, valid_loss = 0.501964\n"
     ]
    },
    {
     "name": "stderr",
     "output_type": "stream",
     "text": [
      "59it [02:03,  2.10s/it]\n",
      "59it [02:07,  2.16s/it]\n"
     ]
    },
    {
     "name": "stdout",
     "output_type": "stream",
     "text": [
      "Epoch 15 | train_accuracy = 0.748571, train_loss = 0.224529\n"
     ]
    },
    {
     "name": "stderr",
     "output_type": "stream",
     "text": [
      "23it [00:37,  1.63s/it]\n"
     ]
    },
    {
     "name": "stdout",
     "output_type": "stream",
     "text": [
      "Epoch 15 | valid_accuracy = 0.347826, valid_loss = 0.490296\n"
     ]
    },
    {
     "name": "stderr",
     "output_type": "stream",
     "text": [
      "59it [02:03,  2.09s/it]\n",
      "59it [02:07,  2.16s/it]\n"
     ]
    },
    {
     "name": "stdout",
     "output_type": "stream",
     "text": [
      "Epoch 16 | train_accuracy = 0.745714, train_loss = 0.219476\n"
     ]
    },
    {
     "name": "stderr",
     "output_type": "stream",
     "text": [
      "23it [00:38,  1.65s/it]\n"
     ]
    },
    {
     "name": "stdout",
     "output_type": "stream",
     "text": [
      "Epoch 16 | valid_accuracy = 0.391304, valid_loss = 0.442867\n"
     ]
    },
    {
     "name": "stderr",
     "output_type": "stream",
     "text": [
      "59it [02:03,  2.09s/it]\n",
      "59it [02:08,  2.17s/it]\n"
     ]
    },
    {
     "name": "stdout",
     "output_type": "stream",
     "text": [
      "Epoch 17 | train_accuracy = 0.751429, train_loss = 0.214472\n"
     ]
    },
    {
     "name": "stderr",
     "output_type": "stream",
     "text": [
      "23it [00:37,  1.63s/it]\n"
     ]
    },
    {
     "name": "stdout",
     "output_type": "stream",
     "text": [
      "Epoch 17 | valid_accuracy = 0.347826, valid_loss = 0.459937\n"
     ]
    },
    {
     "name": "stderr",
     "output_type": "stream",
     "text": [
      "59it [02:02,  2.08s/it]\n",
      "59it [02:07,  2.17s/it]\n"
     ]
    },
    {
     "name": "stdout",
     "output_type": "stream",
     "text": [
      "Epoch 18 | train_accuracy = 0.791429, train_loss = 0.207018\n"
     ]
    },
    {
     "name": "stderr",
     "output_type": "stream",
     "text": [
      "23it [00:37,  1.65s/it]\n"
     ]
    },
    {
     "name": "stdout",
     "output_type": "stream",
     "text": [
      "Epoch 18 | valid_accuracy = 0.463768, valid_loss = 0.504902\n"
     ]
    },
    {
     "name": "stderr",
     "output_type": "stream",
     "text": [
      "59it [02:03,  2.09s/it]\n",
      "59it [02:06,  2.15s/it]\n"
     ]
    },
    {
     "name": "stdout",
     "output_type": "stream",
     "text": [
      "Epoch 19 | train_accuracy = 0.820000, train_loss = 0.182437\n"
     ]
    },
    {
     "name": "stderr",
     "output_type": "stream",
     "text": [
      "23it [00:37,  1.63s/it]\n"
     ]
    },
    {
     "name": "stdout",
     "output_type": "stream",
     "text": [
      "Epoch 19 | valid_accuracy = 0.333333, valid_loss = 0.461105\n"
     ]
    },
    {
     "name": "stderr",
     "output_type": "stream",
     "text": [
      "59it [02:03,  2.09s/it]\n",
      "59it [02:08,  2.18s/it]\n"
     ]
    },
    {
     "name": "stdout",
     "output_type": "stream",
     "text": [
      "Epoch 20 | train_accuracy = 0.791429, train_loss = 0.195778\n"
     ]
    },
    {
     "name": "stderr",
     "output_type": "stream",
     "text": [
      "23it [00:37,  1.65s/it]\n"
     ]
    },
    {
     "name": "stdout",
     "output_type": "stream",
     "text": [
      "Epoch 20 | valid_accuracy = 0.333333, valid_loss = 0.525021\n"
     ]
    },
    {
     "name": "stderr",
     "output_type": "stream",
     "text": [
      "59it [02:03,  2.09s/it]\n",
      "59it [02:07,  2.16s/it]\n"
     ]
    },
    {
     "name": "stdout",
     "output_type": "stream",
     "text": [
      "Epoch 21 | train_accuracy = 0.788571, train_loss = 0.192447\n"
     ]
    },
    {
     "name": "stderr",
     "output_type": "stream",
     "text": [
      "23it [00:37,  1.64s/it]\n"
     ]
    },
    {
     "name": "stdout",
     "output_type": "stream",
     "text": [
      "Epoch 21 | valid_accuracy = 0.333333, valid_loss = 0.497185\n"
     ]
    },
    {
     "name": "stderr",
     "output_type": "stream",
     "text": [
      "59it [02:04,  2.11s/it]\n",
      "59it [02:08,  2.17s/it]\n"
     ]
    },
    {
     "name": "stdout",
     "output_type": "stream",
     "text": [
      "Epoch 22 | train_accuracy = 0.817143, train_loss = 0.185146\n"
     ]
    },
    {
     "name": "stderr",
     "output_type": "stream",
     "text": [
      "23it [00:37,  1.63s/it]\n"
     ]
    },
    {
     "name": "stdout",
     "output_type": "stream",
     "text": [
      "Epoch 22 | valid_accuracy = 0.289855, valid_loss = 0.537392\n"
     ]
    },
    {
     "name": "stderr",
     "output_type": "stream",
     "text": [
      "59it [02:03,  2.10s/it]\n",
      "59it [02:09,  2.19s/it]\n"
     ]
    },
    {
     "name": "stdout",
     "output_type": "stream",
     "text": [
      "Epoch 23 | train_accuracy = 0.848571, train_loss = 0.161679\n"
     ]
    },
    {
     "name": "stderr",
     "output_type": "stream",
     "text": [
      "23it [00:37,  1.65s/it]\n"
     ]
    },
    {
     "name": "stdout",
     "output_type": "stream",
     "text": [
      "Epoch 23 | valid_accuracy = 0.376812, valid_loss = 0.582186\n"
     ]
    },
    {
     "name": "stderr",
     "output_type": "stream",
     "text": [
      "59it [02:04,  2.11s/it]\n",
      "59it [02:06,  2.14s/it]\n"
     ]
    },
    {
     "name": "stdout",
     "output_type": "stream",
     "text": [
      "Epoch 24 | train_accuracy = 0.845714, train_loss = 0.153215\n"
     ]
    },
    {
     "name": "stderr",
     "output_type": "stream",
     "text": [
      "23it [00:37,  1.63s/it]\n"
     ]
    },
    {
     "name": "stdout",
     "output_type": "stream",
     "text": [
      "Epoch 24 | valid_accuracy = 0.260870, valid_loss = 0.575824\n"
     ]
    },
    {
     "name": "stderr",
     "output_type": "stream",
     "text": [
      "59it [02:04,  2.10s/it]\n",
      "59it [02:06,  2.15s/it]\n"
     ]
    },
    {
     "name": "stdout",
     "output_type": "stream",
     "text": [
      "Epoch 25 | train_accuracy = 0.845714, train_loss = 0.164524\n"
     ]
    },
    {
     "name": "stderr",
     "output_type": "stream",
     "text": [
      "23it [00:37,  1.62s/it]\n"
     ]
    },
    {
     "name": "stdout",
     "output_type": "stream",
     "text": [
      "Epoch 25 | valid_accuracy = 0.260870, valid_loss = 0.558703\n"
     ]
    },
    {
     "name": "stderr",
     "output_type": "stream",
     "text": [
      "59it [02:03,  2.09s/it]\n",
      "59it [02:06,  2.15s/it]\n"
     ]
    },
    {
     "name": "stdout",
     "output_type": "stream",
     "text": [
      "Epoch 26 | train_accuracy = 0.862857, train_loss = 0.161219\n"
     ]
    },
    {
     "name": "stderr",
     "output_type": "stream",
     "text": [
      "23it [00:37,  1.61s/it]\n"
     ]
    },
    {
     "name": "stdout",
     "output_type": "stream",
     "text": [
      "Epoch 26 | valid_accuracy = 0.318841, valid_loss = 0.594712\n"
     ]
    },
    {
     "name": "stderr",
     "output_type": "stream",
     "text": [
      "59it [02:03,  2.09s/it]\n",
      "59it [02:07,  2.16s/it]\n"
     ]
    },
    {
     "name": "stdout",
     "output_type": "stream",
     "text": [
      "Epoch 27 | train_accuracy = 0.885714, train_loss = 0.147546\n"
     ]
    },
    {
     "name": "stderr",
     "output_type": "stream",
     "text": [
      "23it [00:37,  1.62s/it]\n"
     ]
    },
    {
     "name": "stdout",
     "output_type": "stream",
     "text": [
      "Epoch 27 | valid_accuracy = 0.260870, valid_loss = 0.571709\n"
     ]
    },
    {
     "name": "stderr",
     "output_type": "stream",
     "text": [
      "59it [02:03,  2.10s/it]\n",
      "59it [02:08,  2.18s/it]\n"
     ]
    },
    {
     "name": "stdout",
     "output_type": "stream",
     "text": [
      "Epoch 28 | train_accuracy = 0.885714, train_loss = 0.134701\n"
     ]
    },
    {
     "name": "stderr",
     "output_type": "stream",
     "text": [
      "23it [00:37,  1.64s/it]\n"
     ]
    },
    {
     "name": "stdout",
     "output_type": "stream",
     "text": [
      "Epoch 28 | valid_accuracy = 0.275362, valid_loss = 0.560101\n"
     ]
    },
    {
     "name": "stderr",
     "output_type": "stream",
     "text": [
      "59it [02:03,  2.10s/it]\n",
      "59it [02:07,  2.16s/it]\n"
     ]
    },
    {
     "name": "stdout",
     "output_type": "stream",
     "text": [
      "Epoch 29 | train_accuracy = 0.857143, train_loss = 0.145877\n"
     ]
    },
    {
     "name": "stderr",
     "output_type": "stream",
     "text": [
      "23it [00:37,  1.63s/it]\n"
     ]
    },
    {
     "name": "stdout",
     "output_type": "stream",
     "text": [
      "Epoch 29 | valid_accuracy = 0.405797, valid_loss = 0.616401\n"
     ]
    },
    {
     "name": "stderr",
     "output_type": "stream",
     "text": [
      "59it [02:04,  2.11s/it]\n",
      "59it [02:08,  2.18s/it]\n"
     ]
    },
    {
     "name": "stdout",
     "output_type": "stream",
     "text": [
      "Epoch 30 | train_accuracy = 0.920000, train_loss = 0.110931\n"
     ]
    },
    {
     "name": "stderr",
     "output_type": "stream",
     "text": [
      "23it [00:37,  1.63s/it]\n"
     ]
    },
    {
     "name": "stdout",
     "output_type": "stream",
     "text": [
      "Epoch 30 | valid_accuracy = 0.333333, valid_loss = 0.661831\n"
     ]
    },
    {
     "name": "stderr",
     "output_type": "stream",
     "text": [
      "59it [02:04,  2.10s/it]\n",
      "59it [02:07,  2.16s/it]\n"
     ]
    },
    {
     "name": "stdout",
     "output_type": "stream",
     "text": [
      "Epoch 31 | train_accuracy = 0.917143, train_loss = 0.112076\n"
     ]
    },
    {
     "name": "stderr",
     "output_type": "stream",
     "text": [
      "23it [00:37,  1.63s/it]\n"
     ]
    },
    {
     "name": "stdout",
     "output_type": "stream",
     "text": [
      "Epoch 31 | valid_accuracy = 0.434783, valid_loss = 0.590067\n"
     ]
    },
    {
     "name": "stderr",
     "output_type": "stream",
     "text": [
      "59it [02:02,  2.08s/it]\n",
      "59it [02:07,  2.15s/it]\n"
     ]
    },
    {
     "name": "stdout",
     "output_type": "stream",
     "text": [
      "Epoch 32 | train_accuracy = 0.908571, train_loss = 0.119881\n"
     ]
    },
    {
     "name": "stderr",
     "output_type": "stream",
     "text": [
      "23it [00:37,  1.63s/it]\n"
     ]
    },
    {
     "name": "stdout",
     "output_type": "stream",
     "text": [
      "Epoch 32 | valid_accuracy = 0.347826, valid_loss = 0.621815\n"
     ]
    },
    {
     "name": "stderr",
     "output_type": "stream",
     "text": [
      "59it [02:03,  2.09s/it]\n",
      "59it [02:08,  2.17s/it]\n"
     ]
    },
    {
     "name": "stdout",
     "output_type": "stream",
     "text": [
      "Epoch 33 | train_accuracy = 0.940000, train_loss = 0.108169\n"
     ]
    },
    {
     "name": "stderr",
     "output_type": "stream",
     "text": [
      "23it [00:37,  1.62s/it]\n"
     ]
    },
    {
     "name": "stdout",
     "output_type": "stream",
     "text": [
      "Epoch 33 | valid_accuracy = 0.362319, valid_loss = 0.607896\n"
     ]
    },
    {
     "name": "stderr",
     "output_type": "stream",
     "text": [
      "59it [02:02,  2.07s/it]\n",
      "59it [02:06,  2.14s/it]\n"
     ]
    },
    {
     "name": "stdout",
     "output_type": "stream",
     "text": [
      "Epoch 34 | train_accuracy = 0.931429, train_loss = 0.101465\n"
     ]
    },
    {
     "name": "stderr",
     "output_type": "stream",
     "text": [
      "23it [00:37,  1.64s/it]\n"
     ]
    },
    {
     "name": "stdout",
     "output_type": "stream",
     "text": [
      "Epoch 34 | valid_accuracy = 0.347826, valid_loss = 0.609209\n"
     ]
    },
    {
     "name": "stderr",
     "output_type": "stream",
     "text": [
      "59it [02:03,  2.09s/it]\n",
      "59it [02:08,  2.17s/it]\n"
     ]
    },
    {
     "name": "stdout",
     "output_type": "stream",
     "text": [
      "Epoch 35 | train_accuracy = 0.917143, train_loss = 0.097326\n"
     ]
    },
    {
     "name": "stderr",
     "output_type": "stream",
     "text": [
      "23it [00:37,  1.63s/it]\n"
     ]
    },
    {
     "name": "stdout",
     "output_type": "stream",
     "text": [
      "Epoch 35 | valid_accuracy = 0.304348, valid_loss = 0.703505\n"
     ]
    },
    {
     "name": "stderr",
     "output_type": "stream",
     "text": [
      "59it [02:02,  2.08s/it]\n",
      "59it [02:08,  2.18s/it]\n"
     ]
    },
    {
     "name": "stdout",
     "output_type": "stream",
     "text": [
      "Epoch 36 | train_accuracy = 0.928571, train_loss = 0.097290\n"
     ]
    },
    {
     "name": "stderr",
     "output_type": "stream",
     "text": [
      "23it [00:39,  1.74s/it]\n"
     ]
    },
    {
     "name": "stdout",
     "output_type": "stream",
     "text": [
      "Epoch 36 | valid_accuracy = 0.362319, valid_loss = 0.656219\n"
     ]
    },
    {
     "name": "stderr",
     "output_type": "stream",
     "text": [
      "59it [02:12,  2.25s/it]\n",
      "59it [02:17,  2.33s/it]\n"
     ]
    },
    {
     "name": "stdout",
     "output_type": "stream",
     "text": [
      "Epoch 37 | train_accuracy = 0.940000, train_loss = 0.090207\n"
     ]
    },
    {
     "name": "stderr",
     "output_type": "stream",
     "text": [
      "23it [00:40,  1.75s/it]\n"
     ]
    },
    {
     "name": "stdout",
     "output_type": "stream",
     "text": [
      "Epoch 37 | valid_accuracy = 0.362319, valid_loss = 0.641356\n"
     ]
    },
    {
     "name": "stderr",
     "output_type": "stream",
     "text": [
      "59it [02:10,  2.21s/it]\n",
      "59it [02:16,  2.32s/it]\n"
     ]
    },
    {
     "name": "stdout",
     "output_type": "stream",
     "text": [
      "Epoch 38 | train_accuracy = 0.931429, train_loss = 0.089432\n"
     ]
    },
    {
     "name": "stderr",
     "output_type": "stream",
     "text": [
      "23it [00:40,  1.74s/it]\n"
     ]
    },
    {
     "name": "stdout",
     "output_type": "stream",
     "text": [
      "Epoch 38 | valid_accuracy = 0.333333, valid_loss = 0.700489\n"
     ]
    },
    {
     "name": "stderr",
     "output_type": "stream",
     "text": [
      "59it [02:09,  2.19s/it]\n",
      "59it [02:15,  2.30s/it]\n"
     ]
    },
    {
     "name": "stdout",
     "output_type": "stream",
     "text": [
      "Epoch 39 | train_accuracy = 0.948571, train_loss = 0.089196\n"
     ]
    },
    {
     "name": "stderr",
     "output_type": "stream",
     "text": [
      "23it [00:40,  1.77s/it]\n"
     ]
    },
    {
     "name": "stdout",
     "output_type": "stream",
     "text": [
      "Epoch 39 | valid_accuracy = 0.405797, valid_loss = 0.609915\n"
     ]
    },
    {
     "name": "stderr",
     "output_type": "stream",
     "text": [
      "59it [02:10,  2.20s/it]\n",
      "59it [02:13,  2.26s/it]\n"
     ]
    },
    {
     "name": "stdout",
     "output_type": "stream",
     "text": [
      "Epoch 40 | train_accuracy = 0.957143, train_loss = 0.079191\n"
     ]
    },
    {
     "name": "stderr",
     "output_type": "stream",
     "text": [
      "23it [00:40,  1.75s/it]\n"
     ]
    },
    {
     "name": "stdout",
     "output_type": "stream",
     "text": [
      "Epoch 40 | valid_accuracy = 0.333333, valid_loss = 0.735696\n"
     ]
    },
    {
     "name": "stderr",
     "output_type": "stream",
     "text": [
      "59it [02:11,  2.22s/it]\n",
      "59it [02:15,  2.30s/it]\n"
     ]
    },
    {
     "name": "stdout",
     "output_type": "stream",
     "text": [
      "Epoch 41 | train_accuracy = 0.957143, train_loss = 0.070325\n"
     ]
    },
    {
     "name": "stderr",
     "output_type": "stream",
     "text": [
      "23it [00:38,  1.69s/it]\n"
     ]
    },
    {
     "name": "stdout",
     "output_type": "stream",
     "text": [
      "Epoch 41 | valid_accuracy = 0.463768, valid_loss = 0.612863\n"
     ]
    },
    {
     "name": "stderr",
     "output_type": "stream",
     "text": [
      "59it [02:09,  2.20s/it]\n",
      "59it [02:14,  2.28s/it]\n"
     ]
    },
    {
     "name": "stdout",
     "output_type": "stream",
     "text": [
      "Epoch 42 | train_accuracy = 0.974286, train_loss = 0.064590\n"
     ]
    },
    {
     "name": "stderr",
     "output_type": "stream",
     "text": [
      "23it [00:40,  1.76s/it]\n"
     ]
    },
    {
     "name": "stdout",
     "output_type": "stream",
     "text": [
      "Epoch 42 | valid_accuracy = 0.449275, valid_loss = 0.634079\n"
     ]
    },
    {
     "name": "stderr",
     "output_type": "stream",
     "text": [
      "59it [02:07,  2.15s/it]\n",
      "59it [02:13,  2.25s/it]\n"
     ]
    },
    {
     "name": "stdout",
     "output_type": "stream",
     "text": [
      "Epoch 43 | train_accuracy = 0.980000, train_loss = 0.062977\n"
     ]
    },
    {
     "name": "stderr",
     "output_type": "stream",
     "text": [
      "23it [00:40,  1.75s/it]\n"
     ]
    },
    {
     "name": "stdout",
     "output_type": "stream",
     "text": [
      "Epoch 43 | valid_accuracy = 0.405797, valid_loss = 0.632305\n"
     ]
    },
    {
     "name": "stderr",
     "output_type": "stream",
     "text": [
      "59it [02:08,  2.17s/it]\n",
      "59it [02:13,  2.26s/it]\n"
     ]
    },
    {
     "name": "stdout",
     "output_type": "stream",
     "text": [
      "Epoch 44 | train_accuracy = 0.974286, train_loss = 0.062362\n"
     ]
    },
    {
     "name": "stderr",
     "output_type": "stream",
     "text": [
      "23it [00:39,  1.70s/it]\n"
     ]
    },
    {
     "name": "stdout",
     "output_type": "stream",
     "text": [
      "Epoch 44 | valid_accuracy = 0.449275, valid_loss = 0.649060\n"
     ]
    },
    {
     "name": "stderr",
     "output_type": "stream",
     "text": [
      "59it [02:07,  2.16s/it]\n",
      "59it [02:14,  2.27s/it]\n"
     ]
    },
    {
     "name": "stdout",
     "output_type": "stream",
     "text": [
      "Epoch 45 | train_accuracy = 0.977143, train_loss = 0.057582\n"
     ]
    },
    {
     "name": "stderr",
     "output_type": "stream",
     "text": [
      "23it [00:40,  1.75s/it]\n"
     ]
    },
    {
     "name": "stdout",
     "output_type": "stream",
     "text": [
      "Epoch 45 | valid_accuracy = 0.362319, valid_loss = 0.631561\n"
     ]
    },
    {
     "name": "stderr",
     "output_type": "stream",
     "text": [
      "59it [02:10,  2.21s/it]\n",
      "59it [02:16,  2.31s/it]\n"
     ]
    },
    {
     "name": "stdout",
     "output_type": "stream",
     "text": [
      "Epoch 46 | train_accuracy = 0.982857, train_loss = 0.058366\n"
     ]
    },
    {
     "name": "stderr",
     "output_type": "stream",
     "text": [
      "23it [00:40,  1.77s/it]\n"
     ]
    },
    {
     "name": "stdout",
     "output_type": "stream",
     "text": [
      "Epoch 46 | valid_accuracy = 0.434783, valid_loss = 0.578713\n"
     ]
    },
    {
     "name": "stderr",
     "output_type": "stream",
     "text": [
      "59it [02:10,  2.21s/it]\n",
      "59it [02:14,  2.29s/it]\n"
     ]
    },
    {
     "name": "stdout",
     "output_type": "stream",
     "text": [
      "Epoch 47 | train_accuracy = 0.980000, train_loss = 0.056602\n"
     ]
    },
    {
     "name": "stderr",
     "output_type": "stream",
     "text": [
      "23it [00:40,  1.75s/it]\n"
     ]
    },
    {
     "name": "stdout",
     "output_type": "stream",
     "text": [
      "Epoch 47 | valid_accuracy = 0.449275, valid_loss = 0.657042\n"
     ]
    },
    {
     "name": "stderr",
     "output_type": "stream",
     "text": [
      "59it [02:08,  2.17s/it]\n",
      "59it [02:12,  2.24s/it]\n"
     ]
    },
    {
     "name": "stdout",
     "output_type": "stream",
     "text": [
      "Epoch 48 | train_accuracy = 0.982857, train_loss = 0.049823\n"
     ]
    },
    {
     "name": "stderr",
     "output_type": "stream",
     "text": [
      "23it [00:40,  1.76s/it]\n"
     ]
    },
    {
     "name": "stdout",
     "output_type": "stream",
     "text": [
      "Epoch 48 | valid_accuracy = 0.478261, valid_loss = 0.667662\n"
     ]
    },
    {
     "name": "stderr",
     "output_type": "stream",
     "text": [
      "59it [02:09,  2.20s/it]\n",
      "59it [02:13,  2.27s/it]\n"
     ]
    },
    {
     "name": "stdout",
     "output_type": "stream",
     "text": [
      "Epoch 49 | train_accuracy = 0.991429, train_loss = 0.043381\n"
     ]
    },
    {
     "name": "stderr",
     "output_type": "stream",
     "text": [
      "23it [00:40,  1.75s/it]"
     ]
    },
    {
     "name": "stdout",
     "output_type": "stream",
     "text": [
      "Epoch 49 | valid_accuracy = 0.434783, valid_loss = 0.605077\n"
     ]
    },
    {
     "name": "stderr",
     "output_type": "stream",
     "text": [
      "\n"
     ]
    }
   ],
   "source": [
    "criterion = nn.CrossEntropyLoss()\n",
    "optimizer = optim.SGD(model.parameters(), lr=0.01,momentum=0.9)\n",
    "sched = lr_scheduler.MultiStepLR(optimizer, milestones=[20,40], gamma=0.1)\n",
    "\n",
    "#batch_loss = 0\n",
    "\n",
    "if not os.path.isdir(f'hint_model_{leg}'):\n",
    "    os.mkdir(f'hint_model_{leg}')\n",
    "\n",
    "best_loss = np.Inf\n",
    "epoch_mem = 0\n",
    "\n",
    "epochs = 50\n",
    "train_mem, valid_mem = [], []\n",
    "\n",
    "for epoch in range(epochs):\n",
    "\n",
    "    train_loss = 0\n",
    "    accuracy = 0\n",
    "    total = 0\n",
    "    \n",
    "    # start training\n",
    "    model.train()\n",
    "    \n",
    "    # read training data\n",
    "    for batch in tqdm(train_loader):\n",
    "        imgs, labels = batch['video'], batch['label']\n",
    "        imgs, labels = imgs.to(device), labels.to(device)\n",
    "\n",
    "        # feed the group of images into model and get probability\n",
    "        outputs = model(imgs)\n",
    "        \n",
    "        # make a prediction\n",
    "        _, preds = torch.max(outputs, 1)\n",
    "        \n",
    "        # calculate loss by CrossEntropy\n",
    "        loss = criterion(outputs, labels)\n",
    "\n",
    "        optimizer.zero_grad()\n",
    "        \n",
    "        # update model weight\n",
    "        loss.backward()\n",
    "        optimizer.step()\n",
    "        sched.step()\n",
    "\n",
    "        # add training loss\n",
    "        train_loss += loss.item()\n",
    "        total += imgs.shape[0]\n",
    "        \n",
    "        # add training accuracy\n",
    "        accuracy += torch.sum(preds == labels.data)\n",
    "        \n",
    "        # release memory space to prevent out of memory\n",
    "        torch.cuda.empty_cache()\n",
    "     \n",
    "    for batch in tqdm(add_loader):\n",
    "        imgs, labels = batch['video'], batch['label']\n",
    "        imgs, labels = imgs.to(device), labels.to(device)\n",
    "\n",
    "        # feed the group of images into model and get probability\n",
    "        outputs = model(imgs)\n",
    "        \n",
    "        # make a prediction\n",
    "        _, preds = torch.max(outputs, 1)\n",
    "        \n",
    "        # calculate loss by CrossEntropy\n",
    "        loss = criterion(outputs, labels)\n",
    "\n",
    "        optimizer.zero_grad()\n",
    "        \n",
    "        # update model weight\n",
    "        loss.backward()\n",
    "        optimizer.step()\n",
    "        sched.step()\n",
    "\n",
    "        # add training loss\n",
    "        train_loss += loss.item()\n",
    "        total += imgs.shape[0]\n",
    "        \n",
    "        # add training accuracy\n",
    "        accuracy += torch.sum(preds == labels.data)\n",
    "        \n",
    "        # release memory space to prevent out of memory\n",
    "        torch.cuda.empty_cache()\n",
    "    print(f'Epoch {epoch} | train_accuracy = {accuracy / total:03f}, train_loss = {train_loss / total:03f}')\n",
    "    train_mem.append(train_loss / total)\n",
    "    \n",
    "    valid_loss = 0\n",
    "    total = 0\n",
    "    accuracy = 0\n",
    "    \n",
    "    model.eval()\n",
    "    \n",
    "    with torch.no_grad():\n",
    "        for batch in tqdm(valid_loader):\n",
    "            imgs, labels = batch['video'], batch['label']\n",
    "            imgs, labels = imgs.to(device), labels.to(device)\n",
    "\n",
    "            # feed the group of images into model and get probability\n",
    "            outputs = model(imgs)\n",
    "\n",
    "            # make a prediction\n",
    "            _, preds = torch.max(outputs, 1)\n",
    "\n",
    "            # calculate loss by CrossEntropy\n",
    "            loss = criterion(outputs, labels)\n",
    "\n",
    "            optimizer.zero_grad()\n",
    "\n",
    "            # add training loss\n",
    "            valid_loss += loss.item()\n",
    "            total += imgs.shape[0]\n",
    "\n",
    "            # add training accuracy\n",
    "            accuracy += torch.sum(preds == labels.data)\n",
    "\n",
    "            # release memory space to prevent out of memory\n",
    "            torch.cuda.empty_cache()\n",
    "    if valid_loss / total < best_loss:\n",
    "        best_loss = valid_loss / total\n",
    "        epoch_mem = epoch\n",
    "        torch.save(model.state_dict(), f'./hint_model_{leg}/right_model_{epoch}.pt' if leg == 'R' else f'./hint_model_{leg}/left_model_{epoch}.pt')\n",
    "    valid_mem.append(valid_loss / total)\n",
    "    print(f'Epoch {epoch} | valid_accuracy = {accuracy / total:03f}, valid_loss = {valid_loss / total:03f}')"
   ]
  },
  {
   "cell_type": "code",
   "execution_count": 6,
   "id": "c0d356d6-534c-43a1-917d-f454f71f7499",
   "metadata": {},
   "outputs": [
    {
     "data": {
      "text/plain": [
       "<Figure size 432x288 with 0 Axes>"
      ]
     },
     "metadata": {},
     "output_type": "display_data"
    }
   ],
   "source": [
    "n_epochs = np.arange(epochs)\n",
    "plt.figure(0)\n",
    "plt.plot(n_epochs, train_mem, color = 'b', label = 'training loss')\n",
    "plt.plot(n_epochs, valid_mem, color = 'r', label = 'Evaluation loss')\n",
    "plt.xlabel('epoch')\n",
    "plt.ylabel('loss')\n",
    "plt.legend()\n",
    "#plt.show()\n",
    "plt.savefig(f'./hint_model_{leg}/{leg}_loss_surface.png')\n",
    "plt.clf()"
   ]
  },
  {
   "cell_type": "code",
   "execution_count": null,
   "id": "1483dfa6-a774-423a-817a-01953ee66ae7",
   "metadata": {},
   "outputs": [],
   "source": []
  },
  {
   "cell_type": "code",
   "execution_count": null,
   "id": "a630b493-fddc-4301-8c5b-59de27bd9ff7",
   "metadata": {},
   "outputs": [],
   "source": []
  }
 ],
 "metadata": {
  "kernelspec": {
   "display_name": "Python 3 (ipykernel)",
   "language": "python",
   "name": "python3"
  },
  "language_info": {
   "codemirror_mode": {
    "name": "ipython",
    "version": 3
   },
   "file_extension": ".py",
   "mimetype": "text/x-python",
   "name": "python",
   "nbconvert_exporter": "python",
   "pygments_lexer": "ipython3",
   "version": "3.7.13"
  }
 },
 "nbformat": 4,
 "nbformat_minor": 5
}
